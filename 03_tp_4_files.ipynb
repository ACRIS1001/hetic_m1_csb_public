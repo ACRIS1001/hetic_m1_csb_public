{
 "cells": [
  {
   "cell_type": "markdown",
   "metadata": {},
   "source": [
    "# **M1 - CSB**\n",
    "# **TP 4 - Manipulation de fichiers**\n",
    "\n",
    "- Chacun des exercices de ce TP vous propose un exemple que vous devrez adapter ou dont vous devrez vous inspirer pour répondre aux questions\n",
    "\n",
    "***\n",
    "\n",
    "- 1.\n",
    "\n",
    "***"
   ]
  },
  {
   "cell_type": "code",
   "execution_count": null,
   "metadata": {},
   "outputs": [],
   "source": []
  }
 ],
 "metadata": {
  "kernelspec": {
   "display_name": "Python 3",
   "language": "python",
   "name": "python3"
  },
  "language_info": {
   "codemirror_mode": {
    "name": "ipython",
    "version": 3
   },
   "file_extension": ".py",
   "mimetype": "text/x-python",
   "name": "python",
   "nbconvert_exporter": "python",
   "pygments_lexer": "ipython3",
   "version": "3.8.6"
  }
 },
 "nbformat": 4,
 "nbformat_minor": 4
}
