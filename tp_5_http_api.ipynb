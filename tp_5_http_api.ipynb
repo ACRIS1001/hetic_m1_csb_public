{
 "cells": [
  {
   "cell_type": "code",
   "execution_count": 1,
   "metadata": {},
   "outputs": [],
   "source": [
    "import requests\n"
   ]
  },
  {
   "cell_type": "code",
   "execution_count": 15,
   "metadata": {},
   "outputs": [],
   "source": [
    "r = requests.get(\"https://genius.com/Arcade-fire-windowsill-lyrics\")"
   ]
  },
  {
   "cell_type": "code",
   "execution_count": null,
   "metadata": {},
   "outputs": [],
   "source": []
  },
  {
   "cell_type": "code",
   "execution_count": 21,
   "metadata": {},
   "outputs": [],
   "source": [
    "response = requests.get(\"https://assets.breatheco.de/apis/fake/sample/time.php\")"
   ]
  },
  {
   "cell_type": "code",
   "execution_count": 22,
   "metadata": {},
   "outputs": [
    {
     "data": {
      "text/plain": [
       "200"
      ]
     },
     "execution_count": 22,
     "metadata": {},
     "output_type": "execute_result"
    }
   ],
   "source": [
    "response.status_code"
   ]
  },
  {
   "cell_type": "code",
   "execution_count": null,
   "metadata": {},
   "outputs": [],
   "source": [
    "# https://github.com/4GeeksAcademy/python-http-requests-api-tutorial-exercises\n",
    "\n",
    "\n",
    "\n",
    "# Add a real example from a famous API : SEVERAL FAMOUS EXAMPLES\n",
    "# https://github.com/4GeeksAcademy/python-http-requests-api-tutorial-exercises/tree/master/exercises/03-response-body\n",
    "\n",
    "# in particular \n",
    "# https://github.com/4GeeksAcademy/python-http-requests-api-tutorial-exercises/tree/master/exercises/02-random-status\n",
    "\n",
    "\n",
    "\n",
    "# Fake and rotate User agent\n",
    "# https://lobstr.io/index.php/2019/08/28/comment-changer-user-agent-et-rester-incognito-python-requests/\n",
    "\n",
    "\n",
    "# https://github.com/sagarsj42/requests-python-tutorial/blob/master/requests_api_tutorial_basics.ipynb"
   ]
  }
 ],
 "metadata": {
  "kernelspec": {
   "display_name": "Python 3",
   "language": "python",
   "name": "python3"
  },
  "language_info": {
   "codemirror_mode": {
    "name": "ipython",
    "version": 3
   },
   "file_extension": ".py",
   "mimetype": "text/x-python",
   "name": "python",
   "nbconvert_exporter": "python",
   "pygments_lexer": "ipython3",
   "version": "3.8.6"
  }
 },
 "nbformat": 4,
 "nbformat_minor": 4
}
