{
 "cells": [
  {
   "cell_type": "markdown",
   "metadata": {},
   "source": [
    "# **M1 - CSB**\n",
    "# **TP 5 - Requêtes HTTP et API**\n",
    "\n",
    "\n",
    "\n",
    "***\n",
    "\n",
    "[**Notions**](#notions)\n",
    "\n",
    "1. [Le package `requests`](#1)\n",
    "2. [La requête `GET`](#2)\n",
    "3. [Status codes (codes de réponses HTTP)](#3)\n",
    "4. [Headers de réponses](#4)\n",
    "\n",
    "\n",
    "*** \n",
    "\n",
    "[**Exercices**](#exercices)\n",
    "\n",
    "\n",
    "***"
   ]
  },
  {
   "cell_type": "markdown",
   "metadata": {},
   "source": [
    "<a id='1'></a>\n",
    "## 1. Le package `requests`\n",
    "\n",
    "- `requests` est le package standard pour faire des requêtes HTTP en Python.\n",
    "- La librairies permet de faire des requêtes pour interagir avec des ressources distantes, très simplement et avec peu de code.\n",
    "- [Documentation officielle : Requests: HTTP for Humans](https://requests.readthedocs.io/en/master/)"
   ]
  },
  {
   "cell_type": "markdown",
   "metadata": {},
   "source": [
    "<a id=\"2\"></a>\n",
    "## 2. La requête `GET`\n",
    "\n",
    "- Le requête `GET` accède à une page web par son URL et renvoie la page (ou le fichier) dans son intégralité. \n",
    "\n",
    "**Exemple**\n",
    "- Un lien de téléchargement d'un fichier `json` : https://www.nosdeputes.fr/deputes/enmandat/json"
   ]
  },
  {
   "cell_type": "code",
   "execution_count": 44,
   "metadata": {},
   "outputs": [
    {
     "name": "stdout",
     "output_type": "stream",
     "text": [
      "Type of content is <class 'bytes'>\n",
      "Type of json_string is <class 'str'>\n",
      "Type of d is <class 'dict'>\n",
      "\n",
      "\n",
      "Type of content is <class 'bytes'>\n",
      "Type of json_string is <class 'str'>\n",
      "Type of d is <class 'dict'>\n"
     ]
    }
   ],
   "source": [
    "import requests\n",
    "\n",
    "# On fait une requête GET sur cette adresse\n",
    "r = requests.get(\"https://www.nosdeputes.fr/deputes/enmandat/json\")\n",
    "\n",
    "# Le contenu est un objet de type bytes\n",
    "content = r.content\n",
    "\n",
    "# On le convertit en string\n",
    "json_string = r.content.decode()\n",
    "\n",
    "import json\n",
    "# On le convertit ensuite en dictionnaire\n",
    "d = json.loads(json_string)\n",
    "\n",
    "# On vérifie les types des variables\n",
    "for var_name, var in zip([\"content\", \"json_string\", \"d\"], [content, json_string, d]):\n",
    "    print(f\"Type of {var_name} is {type(var)}\")\n",
    "    \n",
    "# On peut aussi obtenir directement le json au format string ainsi :    \n",
    "json_string = r.text\n",
    "\n",
    "# On peut aussi obtenir directement le dictionnaire ainsi :\n",
    "d = r.json()\n",
    "\n",
    "print(\"\\n\")\n",
    "# On vérifie les types des variables\n",
    "for var_name, var in zip([\"content\", \"json_string\", \"d\"], [content, json_string, d]):\n",
    "    print(f\"Type of {var_name} is {type(var)}\")"
   ]
  },
  {
   "cell_type": "code",
   "execution_count": 46,
   "metadata": {},
   "outputs": [
    {
     "name": "stdout",
     "output_type": "stream",
     "text": [
      "dict_keys(['deputes'])\n",
      "{'depute': {'adresses': [{'adresse': 'Assemblée nationale, 126 Rue de '\n",
      "                                     \"l'Université, 75355 Paris 07 SP\"}],\n",
      "            'anciens_autres_mandats': [],\n",
      "            'anciens_mandats': [{'mandat': '21/06/2017 /  / '}],\n",
      "            'autres_mandats': [{'mandat': 'Comps / Conseil municipal / '\n",
      "                                          'membre'}],\n",
      "            'collaborateurs': [{'collaborateur': 'Mme Vanessa Santos'},\n",
      "                               {'collaborateur': 'M. Guillaume Jollet'},\n",
      "                               {'collaborateur': 'M. Maxence Huguenot'},\n",
      "                               {'collaborateur': 'Mme Virginie Evrard'}],\n",
      "            'date_naissance': '1968-11-04',\n",
      "            'emails': [{'email': 'veronique.hammerer@assemblee-nationale.fr'}],\n",
      "            'groupe_sigle': 'LREM',\n",
      "            'id': 221,\n",
      "            'id_an': '719652',\n",
      "            'lieu_naissance': 'Dax (Landes)',\n",
      "            'mandat_debut': '2017-06-21',\n",
      "            'nb_mandats': 1,\n",
      "            'nom': 'Véronique Hammerer',\n",
      "            'nom_circo': 'Gironde',\n",
      "            'nom_de_famille': 'Hammerer',\n",
      "            'num_circo': 11,\n",
      "            'num_deptmt': '33',\n",
      "            'parti_ratt_financier': 'La République en Marche',\n",
      "            'place_en_hemicycle': '326',\n",
      "            'prenom': 'Véronique',\n",
      "            'profession': 'Fonctionnaire de catégorie A',\n",
      "            'sexe': 'F',\n",
      "            'sites_web': [{'site': 'https://veroniquehammerer.com'},\n",
      "                          {'site': 'https://twitter.com/V_Hammerer'}],\n",
      "            'slug': 'veronique-hammerer',\n",
      "            'twitter': 'V_Hammerer',\n",
      "            'url_an': 'http://www2.assemblee-nationale.fr/deputes/fiche/OMC_PA719652',\n",
      "            'url_nosdeputes': 'https://www.nosdeputes.fr/veronique-hammerer',\n",
      "            'url_nosdeputes_api': 'https://www.nosdeputes.fr/veronique-hammerer/json'}}\n"
     ]
    }
   ],
   "source": [
    "print(d.keys())\n",
    "\n",
    "from pprint import pprint\n",
    "\n",
    "pprint(d[\"deputes\"][200])"
   ]
  },
  {
   "cell_type": "markdown",
   "metadata": {},
   "source": [
    "<a id=\"3\"></a>\n",
    "## 3. Status codes\n",
    "- Dans l'objet renvoyé par une requête faite avec `requests`, ici l'objet `r`, on peut accéder au `status_code``\n",
    "- Ce dernier nous renseigne sur le succès de la requête - et peut donner des informations supplémentaires :\n",
    " - Vous en connaissez tous déjà un exemple : [Le code HTTP 404](https://fr.wikipedia.org/wiki/Erreur_HTTP_404)\n",
    " - Liste des `status_codes` : [List of HTTP status codes - Wikipedia](https://en.wikipedia.org/wiki/List_of_HTTP_status_codes)\n",
    " \n",
    " \n",
    " \n",
    "- Comment les lire : \n",
    "\n",
    " - **1xx** : Information / Informational Response\n",
    "\n",
    " - **2xx** : Succès / Success\n",
    "\n",
    " - **3xx** : Rediction / Redirection\n",
    "\n",
    " - **4xx** : Erreur du client / Client Errors\n",
    "\n",
    " - **5xx** : Erreur du serveur / Server Errors\n",
    "\n",
    "**Exemple**\n",
    "- Dans le code ci dessous : \n",
    " - `GET`sur l'adresse : \"https://www.nosdeputes.fr/deputes/enmandat/json\" renvoie un code 200 (succès)\n",
    " - `GET`sur l'adresse : \"https://www.nosdeputes.fr/deputes/enmandat/json123\" renvoie un code 404 (Non trouvée, car l'url est fausse)"
   ]
  },
  {
   "cell_type": "code",
   "execution_count": 42,
   "metadata": {},
   "outputs": [
    {
     "name": "stdout",
     "output_type": "stream",
     "text": [
      "Status code : 200\n",
      "Status code : 404\n"
     ]
    }
   ],
   "source": [
    "# On fait une requête GET sur cette adresse\n",
    "r = requests.get(\"https://www.nosdeputes.fr/deputes/enmandat/json\")\n",
    "print(f\"Status code : {r.status_code}\")\n",
    "\n",
    "\n",
    "# On fait une requête GET sur cette adresse qui est fausse\n",
    "r = requests.get(\"https://www.nosdeputes.fr/deputes/enmandat/json123\")\n",
    "print(f\"Status code : {r.status_code}\")"
   ]
  },
  {
   "cell_type": "markdown",
   "metadata": {},
   "source": [
    "## 4. Headers de réponses"
   ]
  },
  {
   "cell_type": "markdown",
   "metadata": {},
   "source": [
    "- Les headers de la réponse à la requête HTTP peuvent donner des informations utiles sur le type de la réponse\n",
    "- Les headers renvoyés par `requests` sont des dictionnaires \"Case Insensitive\" - on n'a pas à se soucier de la casse en les manipulant"
   ]
  },
  {
   "cell_type": "code",
   "execution_count": 56,
   "metadata": {},
   "outputs": [
    {
     "name": "stdout",
     "output_type": "stream",
     "text": [
      "type: <class 'requests.structures.CaseInsensitiveDict'>\n",
      "\n",
      "Headers :\n",
      "{'Access-Control-Allow-Origin': '*',\n",
      " 'Connection': 'Keep-Alive',\n",
      " 'Content-Disposition': 'attachment; '\n",
      "                        'filename=\"nosdeputes.fr_deputes_en_mandat_2020-11-05.json\"',\n",
      " 'Content-Encoding': 'gzip',\n",
      " 'Content-Type': 'text/plain; charset=utf-8',\n",
      " 'Date': 'Thu, 05 Nov 2020 08:38:12 GMT',\n",
      " 'Keep-Alive': 'timeout=5, max=100',\n",
      " 'Server': 'Apache/2.4.10 (Debian)',\n",
      " 'Set-Cookie': 'symfony=5332bd971db88108afbcac6906eae11a; path=/',\n",
      " 'Transfer-Encoding': 'chunked',\n",
      " 'Vary': 'Accept-Encoding',\n",
      " 'Via': '1.1 www.nosdeputes.fr',\n",
      " 'X-Powered-By': 'PHP/5.6.30'}\n",
      "\n",
      "Case insensitive :\n",
      "text/plain; charset=utf-8\n",
      "text/plain; charset=utf-8\n"
     ]
    }
   ],
   "source": [
    "# On fait une requête GET sur cette adresse\n",
    "r = requests.get(\"https://www.nosdeputes.fr/deputes/enmandat/json\")\n",
    "print(\"type:\", type(r.headers))\n",
    "print(\"\\nHeaders :\")\n",
    "pprint(dict(r.headers))\n",
    "\n",
    "# Case insensitive\n",
    "print(\"\\nCase insensitive :\")\n",
    "print(r.headers['Content-Type'])\n",
    "print(r.headers['content-type'])"
   ]
  },
  {
   "cell_type": "markdown",
   "metadata": {},
   "source": [
    "## Paramètres de requêtes \n",
    "\n",
    "- Dans certains cas, on peut ajouter des paramètres à une requête `GET` HTTP\n",
    "- Un exemple avec l'API de Github : on peut chercher par mot clefs"
   ]
  },
  {
   "cell_type": "code",
   "execution_count": 60,
   "metadata": {},
   "outputs": [
    {
     "name": "stdout",
     "output_type": "stream",
     "text": [
      "https://api.github.com/search/repositories?q=requests%2Blanguage%3Apython\n"
     ]
    }
   ],
   "source": [
    "# On passe les paramètres ainsi à la fonction get\n",
    "response = requests.get(\n",
    "    'https://api.github.com/search/repositories',\n",
    "    params={'q': 'requests+language:python'},\n",
    ")\n",
    "# Voici l'url \"équivalente\"\n",
    "url = response.url\n",
    "print(f\"{url}\")"
   ]
  },
  {
   "cell_type": "code",
   "execution_count": 61,
   "metadata": {},
   "outputs": [
    {
     "name": "stdout",
     "output_type": "stream",
     "text": [
      "Repository name: grequests\n",
      "Repository description: Requests + Gevent = <3\n"
     ]
    }
   ],
   "source": [
    "json_response = response.json()\n",
    "repository = json_response['items'][0]\n",
    "print(f'Repository name: {repository[\"name\"]}')  # Python 3.6+\n",
    "print(f'Repository description: {repository[\"description\"]}')  # Python 3.6+"
   ]
  },
  {
   "cell_type": "code",
   "execution_count": null,
   "metadata": {},
   "outputs": [],
   "source": [
    "# Search GitHub's repositories for requests\n",
    "response = requests.get(a\n",
    "    'https://api.github.com/search/repositories',\n",
    "    params={'q': 'requests+language:python'},\n",
    ")\n",
    "\n",
    "# Inspect some attributes of the `requests` repository\n",
    "json_response = response.json()\n",
    "repository = json_response['items'][0]\n",
    "print(f'Repository name: {repository[\"name\"]}')  # Python 3.6+\n",
    "print(f'Repository description: {repository[\"description\"]}')  # Python 3.6+\n",
    "By passing the dictionary {'q': 'requests+language:python'} to the params parameter of .get(), you are able to modify the results that come back from the Search API.\n",
    "\n",
    "You can pass params to get() in the form of a dictionary, as you have just done, or as a list of tuples:\n",
    "\n",
    ">>> requests.get(\n",
    "...     'https://api.github.com/search/repositories',\n",
    "...     params=[('q', 'requests+language:python')],\n",
    "... )\n",
    "<Response [200]>\n",
    "You can even pass the values as bytes:\n",
    "\n",
    ">>> requests.get(\n",
    "...     'https://api.github.com/search/repositories',\n",
    "...     params=b'q=requests+language:python',\n",
    "... )\n",
    "<Response [200]>\n",
    "Query strings are useful for parameterizing GET requests. You can also customize your requests by adding or modifying the headers you send.\n",
    "\n",
    "Request Headers\n",
    "To customize headers, you pass a dictionary of HTTP headers to get() using the headers parameter. For example, you can change your previous search request to highlight matching search terms in the results by specifying the text-match media type in the Accept header:\n",
    "\n",
    "import requests\n",
    "\n",
    "response = requests.get(\n",
    "    'https://api.github.com/search/repositories',\n",
    "    params={'q': 'requests+language:python'},\n",
    "    headers={'Accept': 'application/vnd.github.v3.text-match+json'},\n",
    ")\n",
    "\n",
    "# View the new `text-matches` array which provides information\n",
    "# about your search term within the results\n",
    "json_response = response.json()\n",
    "repository = json_response['items'][0]\n",
    "print(f'Text matches: {repository[\"text_matches\"]}')\n",
    "The Accept header tells the server what content types your application can handle. In this case, since you’re expecting the matching search terms to be highlighted, you’re using the header value application/vnd.github.v3.text-match+json, which is a proprietary GitHub Accept header where the content is a special JSON format.\n",
    "\n",
    "Before you learn more ways to customize requests, let’s broaden the horizon by exploring other HTTP methods.\n",
    "\n",
    "Other HTTP Methods\n",
    "Aside from GET, other popular HTTP methods include POST, PUT, DELETE, HEAD, PATCH, and OPTIONS. requests provides a method, with a similar signature to get(), for each of these HTTP methods:\n",
    "\n",
    ">>> requests.post('https://httpbin.org/post', data={'key':'value'})\n",
    ">>> requests.put('https://httpbin.org/put', data={'key':'value'})\n",
    ">>> requests.delete('https://httpbin.org/delete')\n",
    ">>> requests.head('https://httpbin.org/get')\n",
    ">>> requests.patch('https://httpbin.org/patch', data={'key':'value'})\n",
    ">>> requests.options('https://httpbin.org/get')\n",
    "Each function call makes a request to the httpbin service using the corresponding HTTP method. For each method, you can inspect their responses in the same way you did before:\n",
    "\n",
    ">>> response = requests.head('https://httpbin.org/get')\n",
    ">>> response.headers['Content-Type']\n",
    "'application/json'\n",
    "\n",
    ">>> response = requests.delete('https://httpbin.org/delete')\n",
    ">>> json_response = response.json()\n",
    ">>> json_response['args']\n",
    "{}\n",
    "Headers, response bodies, status codes, and more are returned in the Response for each method. Next you’ll take a closer look at the POST, PUT, and PATCH methods and learn how they differ from the other request types.\n",
    "\n",
    "The Message Body\n",
    "According to the HTTP specification, POST, PUT, and the less common PATCH requests pass their data through the message body rather than through parameters in the query string. Using requests, you’ll pass the payload to the corresponding function’s data parameter.\n",
    "\n",
    "data takes a dictionary, a list of tuples, bytes, or a file-like object. You’ll want to adapt the data you send in the body of your request to the specific needs of the service you’re interacting with.\n",
    "\n",
    "For example, if your request’s content type is application/x-www-form-urlencoded, you can send the form data as a dictionary:\n",
    "\n",
    ">>> requests.post('https://httpbin.org/post', data={'key':'value'})\n",
    "<Response [200]>\n",
    "You can also send that same data as a list of tuples:\n",
    "\n",
    ">>> requests.post('https://httpbin.org/post', data=[('key', 'value')])\n",
    "<Response [200]>\n",
    "If, however, you need to send JSON data, you can use the json parameter. When you pass JSON data via json, requests will serialize your data and add the correct Content-Type header for you.\n",
    "\n",
    "httpbin.org is a great resource created by the author of requests, Kenneth Reitz. It’s a service that accepts test requests and responds with data about the requests. For instance, you can use it to inspect a basic POST request:\n",
    "\n",
    ">>> response = requests.post('https://httpbin.org/post', json={'key':'value'})\n",
    ">>> json_response = response.json()\n",
    ">>> json_response['data']\n",
    "'{\"key\": \"value\"}'\n",
    ">>> json_response['headers']['Content-Type']\n",
    "'application/json'\n",
    "You can see from the response that the server received your request data and headers as you sent them. requests also provides this information to you in the form of a PreparedRequest.\n",
    "\n",
    "Inspecting Your Request\n",
    "When you make a request, the requests library prepares the request before actually sending it to the destination server. Request preparation includes things like validating headers and serializing JSON content.\n",
    "\n",
    "You can view the PreparedRequest by accessing .request:\n",
    "\n",
    ">>> response = requests.post('https://httpbin.org/post', json={'key':'value'})\n",
    ">>> response.request.headers['Content-Type']\n",
    "'application/json'\n",
    ">>> response.request.url\n",
    "'https://httpbin.org/post'\n",
    ">>> response.request.body\n",
    "b'{\"key\": \"value\"}'\n",
    "Inspecting the PreparedRequest gives you access to all kinds of information about the request being made such as payload, URL, headers, authentication, and more.\n",
    "\n",
    "So far, you’ve made a lot of different kinds of requests, but they’ve all had one thing in common: they’re unauthenticated requests to public APIs. Many services you may come across will want you to authenticate in some way.\n",
    "\n"
   ]
  },
  {
   "cell_type": "markdown",
   "metadata": {},
   "source": [
    "## 4. Headers de requêtes "
   ]
  },
  {
   "cell_type": "code",
   "execution_count": 9,
   "metadata": {},
   "outputs": [],
   "source": [
    "r = requests.get(\"https://www.nosdeputes.fr/deputes/enmandat/json\")"
   ]
  },
  {
   "cell_type": "code",
   "execution_count": 10,
   "metadata": {},
   "outputs": [
    {
     "data": {
      "text/plain": [
       "200"
      ]
     },
     "execution_count": 10,
     "metadata": {},
     "output_type": "execute_result"
    }
   ],
   "source": [
    "r.status_code"
   ]
  },
  {
   "cell_type": "code",
   "execution_count": 12,
   "metadata": {},
   "outputs": [
    {
     "ename": "AttributeError",
     "evalue": "'bytes' object has no attribute 'read'",
     "output_type": "error",
     "traceback": [
      "\u001b[0;31m---------------------------------------------------------------------------\u001b[0m",
      "\u001b[0;31mAttributeError\u001b[0m                            Traceback (most recent call last)",
      "\u001b[0;32m<ipython-input-12-1569f7735b3f>\u001b[0m in \u001b[0;36m<module>\u001b[0;34m\u001b[0m\n\u001b[0;32m----> 1\u001b[0;31m \u001b[0mr\u001b[0m\u001b[0;34m.\u001b[0m\u001b[0mcontent\u001b[0m\u001b[0;34m.\u001b[0m\u001b[0mread\u001b[0m\u001b[0;34m(\u001b[0m\u001b[0;34m)\u001b[0m\u001b[0;34m\u001b[0m\u001b[0;34m\u001b[0m\u001b[0m\n\u001b[0m",
      "\u001b[0;31mAttributeError\u001b[0m: 'bytes' object has no attribute 'read'"
     ]
    }
   ],
   "source": [
    "r.content."
   ]
  },
  {
   "cell_type": "code",
   "execution_count": null,
   "metadata": {},
   "outputs": [],
   "source": []
  },
  {
   "cell_type": "code",
   "execution_count": null,
   "metadata": {},
   "outputs": [],
   "source": []
  },
  {
   "cell_type": "code",
   "execution_count": null,
   "metadata": {},
   "outputs": [],
   "source": []
  },
  {
   "cell_type": "code",
   "execution_count": 21,
   "metadata": {},
   "outputs": [],
   "source": [
    "response = requests.get(\"https://assets.breatheco.de/apis/fake/sample/time.php\")"
   ]
  },
  {
   "cell_type": "code",
   "execution_count": 22,
   "metadata": {},
   "outputs": [
    {
     "data": {
      "text/plain": [
       "200"
      ]
     },
     "execution_count": 22,
     "metadata": {},
     "output_type": "execute_result"
    }
   ],
   "source": [
    "response.status_code"
   ]
  },
  {
   "cell_type": "code",
   "execution_count": 1,
   "metadata": {},
   "outputs": [],
   "source": [
    "# https://github.com/4GeeksAcademy/python-http-requests-api-tutorial-exercises\n",
    "\n",
    "\n",
    "\n",
    "# Add a real example from a famous API : SEVERAL FAMOUS EXAMPLES\n",
    "# https://github.com/4GeeksAcademy/python-http-requests-api-tutorial-exercises/tree/master/exercises/03-response-body\n",
    "\n",
    "# in particular \n",
    "# https://github.com/4GeeksAcademy/python-http-requests-api-tutorial-exercises/tree/master/exercises/02-random-status\n",
    "\n",
    "\n",
    "\n",
    "# Fake and rotate User agent\n",
    "# https://lobstr.io/index.php/2019/08/28/comment-changer-user-agent-et-rester-incognito-python-requests/\n",
    "\n",
    "\n",
    "# https://github.com/sagarsj42/requests-python-tutorial/blob/master/requests_api_tutorial_basics.ipynb"
   ]
  },
  {
   "cell_type": "code",
   "execution_count": null,
   "metadata": {},
   "outputs": [],
   "source": []
  },
  {
   "cell_type": "code",
   "execution_count": null,
   "metadata": {},
   "outputs": [],
   "source": []
  },
  {
   "cell_type": "markdown",
   "metadata": {},
   "source": [
    "## Yahoo Finance Example\n",
    "\n",
    "- Inspiré de : [Free Stock Data for Python Using Yahoo Finance API - Towards Data Science](https://towardsdatascience.com/free-stock-data-for-python-using-yahoo-finance-api-9dafd96cad2e)\n",
    "\n",
    "\n",
    "As Mustafa Kemal Atatürk said:\n",
    ">One day my mortal body will turn to dust, but the Turkish Republic will stand forever."
   ]
  },
  {
   "cell_type": "markdown",
   "metadata": {},
   "source": [
    "<details>\n",
    "<summary>”Click Here to expand”</summary>\n",
    "this is hidden text block.\n",
    "</details>"
   ]
  },
  {
   "cell_type": "code",
   "execution_count": null,
   "metadata": {},
   "outputs": [],
   "source": []
  }
 ],
 "metadata": {
  "kernelspec": {
   "display_name": "Python 3",
   "language": "python",
   "name": "python3"
  },
  "language_info": {
   "codemirror_mode": {
    "name": "ipython",
    "version": 3
   },
   "file_extension": ".py",
   "mimetype": "text/x-python",
   "name": "python",
   "nbconvert_exporter": "python",
   "pygments_lexer": "ipython3",
   "version": "3.8.6"
  }
 },
 "nbformat": 4,
 "nbformat_minor": 4
}
