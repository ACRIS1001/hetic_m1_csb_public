{
 "cells": [
  {
   "cell_type": "markdown",
   "metadata": {},
   "source": [
    "# **M1 - CSB**\n",
    "# **TP 3 - Algorithmie**\n",
    "\n",
    "- Chacun des exercices de ce TP vous propose un exemple que vous devrez adapter ou dont vous devrez vous inspirer pour répondre aux questions\n",
    "***\n",
    "\n",
    "[**Exercices**](#exercices)\n",
    "1. [Manipulation de chaînes de caractères](#1)\n",
    "2. [Minimum, maximum, moyenne et médiane](#2)\n",
    "3. [Deviner un nombre entre 1 et 100](#3)\n",
    "4. [Code Morse et manipulation de dictionnaire](#4)\n",
    "5. [Manipulation de dates](#5)\n",
    "6. [Tri de listes](#6)\n",
    "\n",
    "***"
   ]
  },
  {
   "cell_type": "markdown",
   "metadata": {},
   "source": [
    "- la fonction qui calcule l'écart type (sans utiliser une fonction qui le fait directement)\n",
    "- la fonction qui calcule la médiane (sans utiliser une fonction qui le fait directement)\n",
    "- la fonction qui calcule le temps en secondes entre deux dates sans utilise `.totals_seconds()`\n",
    "- Coder une fonction qui trie une liste"
   ]
  },
  {
   "cell_type": "markdown",
   "metadata": {},
   "source": [
    "<a id=\"1\"></a>\n",
    "\n",
    "## Exercice 1 - Manipulation de chaînes de caractères"
   ]
  },
  {
   "cell_type": "code",
   "execution_count": 22,
   "metadata": {},
   "outputs": [
    {
     "name": "stdout",
     "output_type": "stream",
     "text": [
      "Elliot Alderson (Rami Malek)\n",
      "Mr. Robot (Christian Slater)\n",
      "Darlene (Carly Chaikin)\n",
      "Angela Moss (Portia Doubleday)\n",
      "Tyrell Wellick (Martin Wallström)\n",
      "Joanna Wellick (Stephanie Corneliussen)\n",
      "Phillip Price (Michael Cristofer)\n",
      "\n",
      "\n",
      "[('Elliot Alderson ', 'Rami Malek'), ('Mr. Robot ', 'Christian Slater'), ('Darlene ', 'Carly Chaikin'), ('Angela Moss ', 'Portia Doubleday'), ('Tyrell Wellick ', 'Martin Wallström'), ('Joanna Wellick ', 'Stephanie Corneliussen'), ('Phillip Price ', 'Michael Cristofer')]\n"
     ]
    }
   ],
   "source": [
    "# On définit une chaîne de caractères\n",
    "s = \"\"\"Elliot Alderson (Rami Malek)\n",
    "Mr. Robot (Christian Slater)\n",
    "Darlene (Carly Chaikin)\n",
    "Angela Moss (Portia Doubleday)\n",
    "Tyrell Wellick (Martin Wallström)\n",
    "Joanna Wellick (Stephanie Corneliussen)\n",
    "Phillip Price (Michael Cristofer)\"\"\"\n",
    "\n",
    "# On définit une liste qui est cette chaîne de caractères \n",
    "# coupées au niveau des retours à la ligne (qu'on écrit \"\\n\" en Python)\n",
    "l = s.split(\"\\n\")\n",
    "\n",
    "# L'objectif est de réussir à récupérer la liste suivante : [(nom du personnage, nom de l'actrice/acteur)]\n",
    "# Par exemple : [('Elliot Alderson ', 'Rami Malek'), ('Mr. Robot ', 'Christian Slater'),...]\n",
    "\n",
    "# print(l)\n",
    "\n",
    "# On retire la parenthèse fermante qui ne nous servira pas\n",
    "l = [nom_perso_et_nom_act.replace(\")\", \"\") for nom_perso_et_nom_act in l]\n",
    "\n",
    "# On coupe sur la parenthèse ouvrante\n",
    "l = [nom_perso_et_nom_act.split(\"(\") for nom_perso_et_nom_act in l]\n",
    "\n",
    "# On convertit en tuple\n",
    "l = [tuple(nom_perso_et_nom_act) for nom_perso_et_nom_act in l]\n",
    "\n",
    "print(s)\n",
    "print(\"\\n\")\n",
    "print(l)"
   ]
  },
  {
   "cell_type": "markdown",
   "metadata": {},
   "source": [
    "- En utilisant la liste finale, écrire un code qui génère le texte suivant :\n",
    "\n",
    "```\n",
    "Elliot Alderson est joué(e) par Rami Malek \n",
    "Mr. Robot est joué(e) par Christian Slater \n",
    "Darlene est joué(e) par Carly Chaikin \n",
    "Angela Moss est joué(e) par Portia Doubleday \n",
    "Tyrell Wellick est joué(e) par Martin Wallström \n",
    "Joanna Wellick est joué(e) par Stephanie Corneliussen \n",
    "Phillip Price est joué(e) par Michael Cristofer \n",
    "```"
   ]
  },
  {
   "cell_type": "code",
   "execution_count": 25,
   "metadata": {},
   "outputs": [
    {
     "name": "stdout",
     "output_type": "stream",
     "text": [
      "Elliot Alderson  Rami Malek\n",
      "Mr. Robot  Christian Slater\n",
      "Darlene  Carly Chaikin\n",
      "Angela Moss  Portia Doubleday\n",
      "Tyrell Wellick  Martin Wallström\n",
      "Joanna Wellick  Stephanie Corneliussen\n",
      "Phillip Price  Michael Cristofer\n"
     ]
    }
   ],
   "source": [
    "for tup in l:\n",
    "    print(tup[0] + \" \" + tup[1])"
   ]
  },
  {
   "cell_type": "code",
   "execution_count": 23,
   "metadata": {},
   "outputs": [],
   "source": [
    "message = \"\"\"Etape 0 : 1 résultats trouvés dans la base de données numéro 1\n",
    "Etape 1 : 1 résultats trouvés dans la base de données numéro 2\n",
    "Etape 2 : 2 résultats trouvés dans la base de données numéro 3\n",
    "Etape 3 : 3 résultats trouvés dans la base de données numéro 4\n",
    "Etape 4 : 5 résultats trouvés dans la base de données numéro 5\n",
    "Etape 5 : 8 résultats trouvés dans la base de données numéro 5\n",
    "Etape 6 : 13 résultats trouvés dans la base de données numéro 5\n",
    "Etape 7 : 21 résultats trouvés dans la base de données numéro 6\n",
    "Etape 8 : 34 résultats trouvés dans la base de données numéro 6\n",
    "Etape 9 : 55 résultats trouvés dans la base de données numéro 3\n",
    "Etape 10 : 89 résultats trouvés dans la base de données numéro 4\n",
    "Etape 11 : 144 résultats trouvés dans la base de données numéro 4\n",
    "Etape 12 : 233 résultats trouvés dans la base de données numéro 3\n",
    "Etape 13 : 377 résultats trouvés dans la base de données numéro 1\"\"\""
   ]
  },
  {
   "cell_type": "markdown",
   "metadata": {},
   "source": [
    "- Avec un petit programme, créer la liste suivante : [(`numero_etape`, `nombre_de_resultats`, `numero_de_la_base_de_donnees`)]\n",
    "    - Il s'agit de cette liste : [(0, 1, 1), (1, 1, 2), ..., (13, 377, 1)]\n",
    "- Avec un petit programme, réécrire le message complet au format suivant : \n",
    "    - \"Au cours de l'etape `numero_etape`, `nombre_de_resultats`  détectés dans la base de données `numero_de_la_base_de_donnees`\""
   ]
  },
  {
   "cell_type": "markdown",
   "metadata": {},
   "source": [
    "<a id=\"2\"></a>\n",
    "\n",
    "## Exercice 2 - Minimum, maximum, moyenne et médiane"
   ]
  },
  {
   "cell_type": "code",
   "execution_count": 42,
   "metadata": {},
   "outputs": [
    {
     "name": "stdout",
     "output_type": "stream",
     "text": [
      "liste de notes : [1, 11, 19, 1, 17, 8, 6, 10, 16, 5]\n",
      "1 1\n",
      "94 94\n"
     ]
    }
   ],
   "source": [
    "import random\n",
    "\n",
    "# On génère au hasard 10 notes entre 0 et 20\n",
    "liste_notes = [random.randint(0, 20) for _ in range(10)]\n",
    "print(\"liste de notes :\", liste_notes)\n",
    "\n",
    "def get_minimum(l):\n",
    "    \"\"\"Trouve le minimum d'une liste de nombres\"\"\"\n",
    "    \n",
    "    # On initialise le minimum à None\n",
    "    minimum = None\n",
    "    \n",
    "    for nombre in l:\n",
    "        \n",
    "        # La première valeur lue est forcément\n",
    "        # la plus petite déja lue\n",
    "        if minimum is None:\n",
    "            minimum = nombre\n",
    "\n",
    "        elif nombre < minimum:\n",
    "            minimum = nombre\n",
    "\n",
    "        else:\n",
    "            pass\n",
    "        \n",
    "    return minimum\n",
    "\n",
    "\n",
    "def get_sum(l):\n",
    "    \"\"\"Calcule la somme d'une liste de nombres\"\"\"\n",
    "    somme = 0\n",
    "    for nombre in l:\n",
    "        somme += nombre\n",
    "        # somme = somme + nombre\n",
    "    return somme\n",
    "\n",
    "\n",
    "# On vérifie que notre fonction renvoie le même résultat que la fonction \"built-in\" Python\n",
    "assert get_minimum(liste_notes) == min(liste_notes)\n",
    "print(get_minimum(liste_notes), min(liste_notes))\n",
    "\n",
    "# On vérifie que notre fonction renvoie le même résultat que la fonction \"built-in\" Python\n",
    "assert get_sum(liste_notes) == sum(liste_notes)\n",
    "print(get_sum(liste_notes), sum(liste_notes))\n"
   ]
  },
  {
   "cell_type": "code",
   "execution_count": 100,
   "metadata": {},
   "outputs": [
    {
     "name": "stdout",
     "output_type": "stream",
     "text": [
      "[11, 3, 11, 6, 3, 12, 10, 18, 1, 14, 11, 10, 6, 4, 3, 10, 11, 11, 4, 0]\n",
      "18\n"
     ]
    }
   ],
   "source": [
    "liste_notes = [random.randint(0, 20) for _ in range(20)]\n",
    "print(liste_notes)\n",
    "\n",
    "def get_maximum(l):\n",
    "    \n",
    "    # Initialisition maximum à None\n",
    "    maximum = None\n",
    "    \n",
    "    for nombre in l:\n",
    "\n",
    "        if maximum is None:\n",
    "            maximum = nombre\n",
    "\n",
    "        elif nombre > maximum:\n",
    "            maximum = nombre\n",
    "\n",
    "        else:\n",
    "            pass\n",
    "    return maximum\n",
    "\n",
    "print(get_maximum(liste_notes))"
   ]
  },
  {
   "cell_type": "code",
   "execution_count": 101,
   "metadata": {},
   "outputs": [
    {
     "name": "stdout",
     "output_type": "stream",
     "text": [
      "7.95\n"
     ]
    }
   ],
   "source": [
    "def get_mean(l):\n",
    "    if len(l)==0:\n",
    "        mean = None\n",
    "    else:\n",
    "        mean = sum(l) / len(l)\n",
    "    return mean\n",
    "\n",
    "mean = get_mean(liste_notes)\n",
    "print(mean)"
   ]
  },
  {
   "cell_type": "markdown",
   "metadata": {},
   "source": [
    "- Ecrire une fonction get_maximum qui renvoie le maximum d'une liste de nombres\n",
    "- Ecrire une fonction get_mean qui renvoie la moyenne d'une liste de nombres\n",
    "- Ecrire une fonction get_standard_deviation qui renvoie l'écart-type d'une liste de nombres\n",
    "- Ecrire une fonction get_median qui renvoie la valeur médiane d'une liste de nombres"
   ]
  },
  {
   "cell_type": "markdown",
   "metadata": {},
   "source": [
    "<a id=\"3\"></a>\n",
    "\n",
    "## Exercice 3 - Deviner un nombre entre 1 et 100"
   ]
  },
  {
   "cell_type": "code",
   "execution_count": 102,
   "metadata": {},
   "outputs": [],
   "source": [
    "import random\n",
    "\n",
    "\n",
    "def jeu_deviner_nombre():\n",
    "    \"\"\"Jeu : il faut deviner un nombre choisi au hasard en moins de 10 essais\"\"\"\n",
    "\n",
    "    # Nombre à deviner\n",
    "    nombre = random.randint(1, 100)\n",
    "\n",
    "    print(\"Un nombre entre 1 et 100 a été sélectionné aléatoirement\")\n",
    "    print(\"Vous avez 10 essais pour le deviner\")\n",
    "    print(\"Il vous sera juste indiqué si le nombre est plus grand ou plus petit que votre proposition\")\n",
    "\n",
    "    # 10 essais\n",
    "    for _ in range(10):\n",
    "\n",
    "        proposition = input()\n",
    "\n",
    "        # On essaie de convertir l'input string en entier\n",
    "        try:\n",
    "            proposition = int(proposition)\n",
    "\n",
    "        # Si on arrive pas, on affiche un message d'erreur\n",
    "        except:\n",
    "            print(f\"Vous avez saisi : {proposition} - ce n'est pas un nombre\")\n",
    "            # Permet de passer tout de suite à l'itération suivante de la boucle\n",
    "            continue\n",
    "\n",
    "        # On vérifie que la proposition est entre 1 et 100\n",
    "        if not (1 <= proposition <= 100):\n",
    "            print(f\"Le nombre à trouver est entre 1 et 100 - pourtant vous avez saisi {proposition}\")\n",
    "\n",
    "        # Si la proposition est le bon nombre\n",
    "        elif proposition == nombre:\n",
    "            print(f\"Vous avez gagné, le nombre est bien {proposition}\")\n",
    "\n",
    "        # La proposition est plus grande\n",
    "        elif proposition > nombre:\n",
    "            print(f\"Le nombre cherché est plus petit que {proposition}\")\n",
    "\n",
    "        # La proposition est plus petite\n",
    "        elif proposition < nombre:\n",
    "            print(f\"Le nombre cherché est plus grand que {proposition}\")\n"
   ]
  },
  {
   "cell_type": "code",
   "execution_count": 103,
   "metadata": {},
   "outputs": [],
   "source": [
    "# jeu_deviner_nombre()"
   ]
  },
  {
   "cell_type": "code",
   "execution_count": 104,
   "metadata": {},
   "outputs": [
    {
     "name": "stdout",
     "output_type": "stream",
     "text": [
      "jean\n",
      "OK\n",
      "max\n",
      "OK\n",
      "hubert\n",
      "OK\n",
      "marc\n",
      "OK\n",
      "\n",
      "\n",
      "\n",
      "\n",
      "Il n'y a pas de 7ème caractère dans le nom : jean - longueur : 4\n",
      "Il n'y a pas de 7ème caractère dans le nom : max - longueur : 3\n",
      "Il n'y a pas de 7ème caractère dans le nom : hubert - longueur : 6\n",
      "Il n'y a pas de 7ème caractère dans le nom : andré - longueur : 5\n",
      "alexandre- Le 7ème caractère est d\n",
      "Il n'y a pas de 7ème caractère dans le nom : alex - longueur : 4\n",
      "Il n'y a pas de 7ème caractère dans le nom : marc - longueur : 4\n",
      "alexandra- Le 7ème caractère est d\n"
     ]
    }
   ],
   "source": [
    "# EXEMPLE : continue\n",
    "names = [\"jean\", \"max\", \"hubert\", \"andré\", \"alexandre\", \"alex\", \"marc\", \"alexandra\"]\n",
    "\n",
    "for name in names:\n",
    "    if name.startswith(\"a\"):\n",
    "        continue\n",
    "    else:\n",
    "        print(name)\n",
    "        \n",
    "    print(\"OK\")\n",
    "\n",
    "        \n",
    "print(\"\\n\"*3)\n",
    "        \n",
    "# Exemple : Try / Except\n",
    "for name in names:\n",
    "    try:\n",
    "        print(f\"{name}- Le 7ème caractère est {name[6]}\")\n",
    "    except:\n",
    "        print(f\"Il n'y a pas de 7ème caractère dans le nom : {name} - longueur : {len(name)}\")"
   ]
  },
  {
   "cell_type": "markdown",
   "metadata": {},
   "source": [
    "- Adapter le code de la fonction `jeu_deviner_nombre`pour :\n",
    " - Deviner un nombre entre 0 et 50\n",
    " - En seulement 5 essais\n",
    " \n",
    "\n",
    "- Adapter le code de la fonction `jeu_deviner_nombre` pour afficher un message en cas de victoire / réussite qui :\n",
    " - Récapitule tous les nombres choisis par l'utilisateur\n",
    " - Affiche un message indiquant le nombre d'essais dont il a eu besoin (seulement s'il gagne)"
   ]
  },
  {
   "cell_type": "code",
   "execution_count": null,
   "metadata": {},
   "outputs": [],
   "source": [
    "import random\n",
    "\n",
    "def jeu_deviner_un_nombre():\n",
    "    #Jeu : il faut deviner un nombre choisi au hasard en moins de 10 essais#\n",
    "    print(\"Un nombre entre 1 et 50 a été sélectionné aléatoirement\")\n",
    "    print(\"Vous avez 5 essais pour le deviner\")\n",
    "    print(\"Il vous sera juste indiqué si le nombre est plus grand ou plus petit que votre proposition\")\n",
    "\n",
    "    nombre_a_deviner = random.randint(0, 50)\n",
    "    print(nombre_a_deviner)\n",
    "    # On initilialise le nombre d'essaie à 0\n",
    "    nombre_essai = 0\n",
    "    nombre_essai_max = 5\n",
    "\n",
    "    while nombre_essai < nombre_essai_max:\n",
    "        nombre_essai += 1\n",
    "\n",
    "        nombre = input(\"Entrer le nombre à deviner?\")\n",
    "        \n",
    "        if not nombre.isdigit():\n",
    "            print(\"svp, entrer un nombre valide\")\n",
    "            continue\n",
    "\n",
    "        nombre = int(nombre)\n",
    "\n",
    "        \n",
    "        if nombre > nombre_a_deviner:\n",
    "            print(f\"le nombre à deviner est plus petit que {nombre}\")\n",
    "            \n",
    "        elif nombre < nombre_a_deviner:\n",
    "            print(f\"le nombre à deviner est plus grand que {nombre}\")\n",
    "            \n",
    "        elif nombre == nombre_a_definer :\n",
    "            print(\"Bravo, T'es un bon veinard Yoanne\")\n",
    "            break \n",
    "        \n",
    "        if nombre_essai == 5:\n",
    "            print(\"Desolé tu n'as pas de bol Yoanne\")\n",
    "\n",
    "\n",
    "\n",
    "jeu_deviner_un_nombre()"
   ]
  },
  {
   "cell_type": "code",
   "execution_count": null,
   "metadata": {},
   "outputs": [],
   "source": [
    "jeu_deviner_un_nombre()"
   ]
  },
  {
   "cell_type": "code",
   "execution_count": 8,
   "metadata": {},
   "outputs": [],
   "source": [
    "import random\n",
    "\n",
    "\n",
    "def jeu_deviner_nombre():\n",
    "    \"\"\"Jeu : il faut deviner un nombre choisi au hasard en moins de 5 essais\"\"\"\n",
    "\n",
    "    # Nombre à deviner\n",
    "    nombre = random.randint(1, 50)\n",
    "\n",
    "    print(\"Un nombre entre 1 et 50 a été sélectionné aléatoirement\")\n",
    "    print(\"Vous avez 5 essais pour le deviner\")\n",
    "    print(\"Il vous sera juste indiqué si le nombre est plus grand ou plus petit que votre proposition\")\n",
    "\n",
    "    # 10 essais\n",
    "    liste_propositions = []\n",
    "    for i in range(1,5):\n",
    "        \n",
    "        proposition = input()\n",
    "        liste_propositions.append(proposition)\n",
    "\n",
    "        # On essaie de convertir l'input string en entier\n",
    "        try:\n",
    "            proposition = int(proposition)\n",
    "\n",
    "        # Si on arrive pas, on affiche un message d'erreur\n",
    "        except:\n",
    "            print(f\"Vous avez saisi : {proposition} - ce n'est pas un nombre\")\n",
    "            print(\"Propositions : \", liste_propositions)\n",
    "            continue\n",
    "\n",
    "        # On vérifie que la proposition est entre 1 et 50\n",
    "        if not (1 <= proposition <= 50):\n",
    "            print(f\"Le nombre à trouver est entre 1 et 50 - pourtant vous avez saisi\")\n",
    "\n",
    "        # Si la proposition est le bon nombre\n",
    "        elif proposition == nombre:\n",
    "            print(f\"Vous avez gagné, le nombre est bien {proposition} - nombre de coups: {i}\", \n",
    "                  \"voici les propositions que vous avez données:\", liste_propositions)\n",
    "            break\n",
    "        \n",
    "\n",
    "        # La proposition est plus grande\n",
    "        elif proposition > nombre:\n",
    "            print(f\"Le nombre cherché est plus petit que {proposition}\", \n",
    "                  \"voici les propositions que vous avez données:\",liste_propositions)\n",
    "\n",
    "\n",
    "        # La proposition est plus petite\n",
    "        elif proposition < nombre:\n",
    "            print(f\"Le nombre cherché est plus grand que {proposition}\", \n",
    "                  \"voici les propositions que vous avez données:\",liste_propositions)"
   ]
  },
  {
   "cell_type": "code",
   "execution_count": 20,
   "metadata": {},
   "outputs": [],
   "source": [
    "jeu_deviner_nombre()"
   ]
  },
  {
   "cell_type": "markdown",
   "metadata": {},
   "source": [
    "<a id=\"4\"></a>\n",
    "## Exercice 4 - Code Morse et manipulation de dictionnaire"
   ]
  },
  {
   "cell_type": "code",
   "execution_count": 106,
   "metadata": {},
   "outputs": [],
   "source": [
    "# On définit le code morse : (les lettres) \n",
    "alphabet = dict(A='o-', B='-ooo', C='-o-o', D='-oo', E='o', F='oo-o', G='--o',\n",
    "                H='oooo', I='oo', J='o---', K='-o-', L='o-oo', M='--', N='-o',\n",
    "                O='---', P='o--o', Q='--o-', R='o-o', S='ooo', T='-', U='oo-',\n",
    "                V='ooo-', W='o--', X='-oo-', Y='-o--', Z='--oo')\n",
    "#print(alphabet)\n",
    "# Les chiffres\n",
    "alphabet.update({\n",
    "    '0': '-----', '1': 'o----',\n",
    "    '2': 'oo---', '3': 'ooo--',\n",
    "    '4': 'oooo-', '5': 'ooooo',\n",
    "    '6': '-oooo', '7': '--ooo',\n",
    "    '8': '---oo', '9': '----o',\n",
    "})\n",
    "# alphabet"
   ]
  },
  {
   "cell_type": "markdown",
   "metadata": {},
   "source": [
    "- Ecrire une fonction qui :\n",
    "    - Prend en argument une chaîne de caractères sans espace et qui ne contient que des chiffres et des lettres majuscules\n",
    "    - Renvoie cette chaîne de caractères convertie en code morse"
   ]
  },
  {
   "cell_type": "code",
   "execution_count": 107,
   "metadata": {},
   "outputs": [],
   "source": [
    "def text_to_morse(text, alphabet=alphabet):\n",
    "    liste_morse = []\n",
    "    for c in text:\n",
    "        print(c)\n",
    "        c_morse = alphabet[c]\n",
    "        liste_morse.append(c_morse)\n",
    "    return liste_morse"
   ]
  },
  {
   "cell_type": "code",
   "execution_count": 108,
   "metadata": {},
   "outputs": [
    {
     "name": "stdout",
     "output_type": "stream",
     "text": [
      "S\n",
      "A\n",
      "L\n",
      "U\n",
      "T\n",
      "C\n",
      "A\n",
      "V\n",
      "A\n"
     ]
    },
    {
     "data": {
      "text/plain": [
       "['ooo', 'o-', 'o-oo', 'oo-', '-', '-o-o', 'o-', 'ooo-', 'o-']"
      ]
     },
     "execution_count": 108,
     "metadata": {},
     "output_type": "execute_result"
    }
   ],
   "source": [
    "text = 'SALUTCAVA'\n",
    "text_to_morse(text)"
   ]
  },
  {
   "cell_type": "markdown",
   "metadata": {},
   "source": [
    "<a id=\"5\"></a>\n",
    "\n",
    "## Exercice 5 - Manipulation de dates"
   ]
  },
  {
   "cell_type": "code",
   "execution_count": 109,
   "metadata": {},
   "outputs": [],
   "source": [
    "#import random\n",
    "#random.randint(0,10)"
   ]
  },
  {
   "cell_type": "code",
   "execution_count": 110,
   "metadata": {},
   "outputs": [
    {
     "name": "stdout",
     "output_type": "stream",
     "text": [
      "Nous sommes le 30/10/2020\n",
      "\n",
      "Nous sommes le 30-10-2020\n",
      "\n",
      "premier jour de l'année : 2020-01-01 00:00:00 \n",
      "\n",
      "date : 2020-10-30\n",
      "heure : 18:27:24.960680\n",
      "\n",
      "\n",
      "demain : 2020-10-31 18:27:24.960680\n",
      "hier : 2020-10-29 18:27:24.960680\n",
      "L'heure il y a une heure 2020-10-30 17:27:24.960680\n"
     ]
    }
   ],
   "source": [
    "import datetime\n",
    "\n",
    "# On définit un objet datetime égal à la date d'aujourd'hui / l'heure qu'il est\n",
    "today = datetime.datetime.now()\n",
    "#print(today)\n",
    "#print(type(today))\n",
    "\n",
    "jour = today.day\n",
    "mois = today.month\n",
    "annee = today.year\n",
    "print(f\"Nous sommes le {jour}/{mois}/{annee}\\n\")\n",
    "print(f\"Nous sommes le {jour}-{mois}-{annee}\\n\")\n",
    "\n",
    "\n",
    "\n",
    "# On peut définir un object datetime ainsi :\n",
    "jour_1 = datetime.datetime(year=2020, month=1, day=1, hour=0, minute=0, second=0)\n",
    "print(\"premier jour de l'année :\", jour_1, \"\\n\")\n",
    "\n",
    "# On peut regarder la date et l'heure :\n",
    "print(\"date :\", today.date())\n",
    "print(\"heure :\", today.time())\n",
    "time = today.time()\n",
    "date = today.date()\n",
    "\n",
    "#print(type(time))\n",
    "#print(type(date))\n",
    "print(\"\\n\")\n",
    "\n",
    "# On peut ajouter ou soustraire des jours ainsi\n",
    "demain = today + datetime.timedelta(days=1)\n",
    "hier = today + datetime.timedelta(days=-1)\n",
    "print(\"demain :\", demain)\n",
    "print(\"hier :\", hier)\n",
    "\n",
    "# On peut ajouter ou soustraire des heures\n",
    "il_y_a_une_heure = today + datetime.timedelta(hours=-1)\n",
    "\n",
    "print(\"L'heure il y a une heure\", il_y_a_une_heure)"
   ]
  },
  {
   "cell_type": "markdown",
   "metadata": {},
   "source": [
    "- Ecrire une fonction qui prend en arguments une date de début (objet `datetime`) et une date de fin (aussi un objet `datetime`) et renvoie la liste des dates entre ces deux dates (liste d'objets `datetime`)\n",
    "- Ecrire une fonction qui prend en argument une année (un entier comme 2020) et renvoie `True` si c'est une année bissextile et `False` sinon\n",
    "- Ecrire une fonction qui prend en arguments une date de début (objet `datetime`) et une date de fin (aussi un objet `datetime`) et renvoie le temps en secondes entre ces deux objet `datetime`"
   ]
  },
  {
   "cell_type": "code",
   "execution_count": 111,
   "metadata": {},
   "outputs": [
    {
     "name": "stdout",
     "output_type": "stream",
     "text": [
      "2020-10-20 18:27:28.082066\n",
      "2020-11-09 18:27:28.082501\n"
     ]
    },
    {
     "data": {
      "text/plain": [
       "[datetime.datetime(2020, 10, 20, 18, 27, 28, 82066),\n",
       " datetime.datetime(2020, 10, 21, 18, 27, 28, 82066),\n",
       " datetime.datetime(2020, 10, 22, 18, 27, 28, 82066),\n",
       " datetime.datetime(2020, 10, 23, 18, 27, 28, 82066),\n",
       " datetime.datetime(2020, 10, 24, 18, 27, 28, 82066),\n",
       " datetime.datetime(2020, 10, 25, 18, 27, 28, 82066),\n",
       " datetime.datetime(2020, 10, 26, 18, 27, 28, 82066),\n",
       " datetime.datetime(2020, 10, 27, 18, 27, 28, 82066),\n",
       " datetime.datetime(2020, 10, 28, 18, 27, 28, 82066),\n",
       " datetime.datetime(2020, 10, 29, 18, 27, 28, 82066),\n",
       " datetime.datetime(2020, 10, 30, 18, 27, 28, 82066),\n",
       " datetime.datetime(2020, 10, 31, 18, 27, 28, 82066),\n",
       " datetime.datetime(2020, 11, 1, 18, 27, 28, 82066),\n",
       " datetime.datetime(2020, 11, 2, 18, 27, 28, 82066),\n",
       " datetime.datetime(2020, 11, 3, 18, 27, 28, 82066),\n",
       " datetime.datetime(2020, 11, 4, 18, 27, 28, 82066),\n",
       " datetime.datetime(2020, 11, 5, 18, 27, 28, 82066),\n",
       " datetime.datetime(2020, 11, 6, 18, 27, 28, 82066),\n",
       " datetime.datetime(2020, 11, 7, 18, 27, 28, 82066),\n",
       " datetime.datetime(2020, 11, 8, 18, 27, 28, 82066),\n",
       " datetime.datetime(2020, 11, 9, 18, 27, 28, 82066)]"
      ]
     },
     "execution_count": 111,
     "metadata": {},
     "output_type": "execute_result"
    }
   ],
   "source": [
    "def get_time_range(datetime_min, datetime_max):\n",
    "    \"\"\"Renvoie la liste des jours entre deux dates\"\"\"\n",
    "    \n",
    "    dt = datetime_min\n",
    "    list_dt = []\n",
    "    \n",
    "    while dt <= datetime_max :\n",
    "        list_dt.append(dt)\n",
    "        dt = dt + datetime.timedelta(days=1)\n",
    "        \n",
    "    return list_dt\n",
    "\n",
    "datetime_min = datetime.datetime.now() + datetime.timedelta(days=-10)\n",
    "print(datetime_min)\n",
    "datetime_max = datetime.datetime.now() + datetime.timedelta(days=10)\n",
    "print(datetime_max)\n",
    "\n",
    "get_time_range(datetime_min, datetime_max)"
   ]
  },
  {
   "cell_type": "code",
   "execution_count": 112,
   "metadata": {},
   "outputs": [
    {
     "data": {
      "text/plain": [
       "True"
      ]
     },
     "execution_count": 112,
     "metadata": {},
     "output_type": "execute_result"
    }
   ],
   "source": [
    "def is_bissextile(datetime_year):\n",
    "    \"\"\"Version utilisant datetime - on compte les jours\"\"\"\n",
    "    day_counter = 0\n",
    "    datetime_min = datetime.datetime(year=datetime_year, month=1, day=1, hour=0, minute=0, second=0) \n",
    "    while datetime_min.year < datetime_year + 1:\n",
    "        datetime_min = datetime_min + datetime.timedelta(days=1)\n",
    "        day_counter += 1\n",
    "        \n",
    "    if day_counter == 365:\n",
    "        return False\n",
    "    else:\n",
    "        return True\n",
    "        \n",
    "is_bissextile(2020)"
   ]
  },
  {
   "cell_type": "code",
   "execution_count": 115,
   "metadata": {},
   "outputs": [
    {
     "name": "stdout",
     "output_type": "stream",
     "text": [
      "True\n",
      "False\n",
      "True\n",
      "False\n"
     ]
    }
   ],
   "source": [
    "def is_bissextile(year):\n",
    "    \"\"\"Version utilisant datetime - on essaie de créer le 29 février de cette année\"\"\"\n",
    "    try:\n",
    "        date = datetime.datetime(year=year, month=2, day=29)\n",
    "        success = True\n",
    "    except:\n",
    "        success = False\n",
    "    \n",
    "    return success\n",
    "        \n",
    "    \n",
    "print(is_bissextile(2020))\n",
    "print(is_bissextile(2019))\n",
    "    \n",
    "def is_bissextile(year):\n",
    "    \"\"\"Version seulement avec une division euclidienn\"\"\"\n",
    "    return year % 4 == 0\n",
    "        \n",
    "print(is_bissextile(2020))\n",
    "print(is_bissextile(2019))"
   ]
  },
  {
   "cell_type": "code",
   "execution_count": 116,
   "metadata": {},
   "outputs": [],
   "source": [
    "demain = today + datetime.timedelta(days=1)\n",
    "hier = today + datetime.timedelta(days=-1)\n",
    "time_delta = demain - hier\n",
    "\n",
    "assert time_delta.total_seconds() == 2 * 24 * 60 * 60"
   ]
  },
  {
   "cell_type": "code",
   "execution_count": 117,
   "metadata": {},
   "outputs": [
    {
     "data": {
      "text/plain": [
       "172800.0"
      ]
     },
     "execution_count": 117,
     "metadata": {},
     "output_type": "execute_result"
    }
   ],
   "source": [
    "def get_time_in_seconds(datetime_min, datetime_max):\n",
    "    return (datetime_max - datetime_min).total_seconds()\n",
    "\n",
    "get_time_in_seconds(hier, demain)"
   ]
  },
  {
   "cell_type": "markdown",
   "metadata": {},
   "source": [
    "<a id=\"6\"></a>\n",
    "## Exercice 6 - Tri de liste\n",
    "- Ecrire une fonction qui prend en argument une liste de nombre et renvoie cette liste triée par ordre croissant (vous pouvez par exemple utiliser la fonction `min`ou `max` de Python)\n",
    "- Réécrire votre fonction pour quelle renvoie la liste triée et le nombre de comparaisons qui sont effectuées lors de l'execution de la fonction"
   ]
  },
  {
   "cell_type": "code",
   "execution_count": 16,
   "metadata": {},
   "outputs": [],
   "source": [
    "def tri_naif(l, verbose=False):\n",
    "    \"\"\"Algorithme de tri naïf : \n",
    "       Dans une liste de longueur n : \n",
    "           - 1. on cherche le minimum de la liste : \n",
    "               - c'est le plus petit élément. \n",
    "           - 2. on considère la liste privée de ce minimum, on trouve son nouveau minimum\n",
    "               - c'est le deuxième plus petit élément\n",
    "            -3. - on cherche le minimum de la liste privée des deux minimums trouvés : \n",
    "               - c'est le troisième plus petit élément\n",
    "            -4. ....\n",
    "    \"\"\"\n",
    "    min_ = None\n",
    "    l_sorted = []\n",
    "    sub_l = l\n",
    "    \n",
    "    for _ in range(len(l)):\n",
    "        # On cherche le minimum dans la sous liste\n",
    "        min_ = min(sub_l)\n",
    "        # On prend le premier index de ce minimim\n",
    "        index_min_ = sub_l.index(min_) \n",
    "        if verbose:\n",
    "            print(f'On cherche le (premier) minimum dans {l}')\n",
    "            print(f'On trouve {min_}, d\\'index : {index_min_}')\n",
    "\n",
    "        # On crée la sous liste dans laquelle on a retiré ce minimum\n",
    "        sub_l = sub_l[0:index_min_] + sub_l[(index_min_+1):]\n",
    "        # On ajoute le minimum à la liste triées\n",
    "        l_sorted.append(min_)\n",
    "        \n",
    "        if verbose:\n",
    "            print(f'La liste obtenue après avoir retiré le minimum est : {sub_l}')\n",
    "            print(f'Les minimums trouvés sont (par ordre croissant) : {l_sorted}')\n",
    "            print(\"\\n\")\n",
    "            \n",
    "    return l_sorted"
   ]
  },
  {
   "cell_type": "code",
   "execution_count": 17,
   "metadata": {},
   "outputs": [
    {
     "name": "stdout",
     "output_type": "stream",
     "text": [
      "On cherche le (premier) minimum dans [1, 4, 7, 4, 5, 3, 2, 6]\n",
      "On trouve 1, d'index : 0\n",
      "La liste obtenue après avoir retiré le minimum est : [4, 7, 4, 5, 3, 2, 6]\n",
      "Les minimums trouvés sont (par ordre croissant) : [1]\n",
      "\n",
      "\n",
      "On cherche le (premier) minimum dans [1, 4, 7, 4, 5, 3, 2, 6]\n",
      "On trouve 2, d'index : 5\n",
      "La liste obtenue après avoir retiré le minimum est : [4, 7, 4, 5, 3, 6]\n",
      "Les minimums trouvés sont (par ordre croissant) : [1, 2]\n",
      "\n",
      "\n",
      "On cherche le (premier) minimum dans [1, 4, 7, 4, 5, 3, 2, 6]\n",
      "On trouve 3, d'index : 4\n",
      "La liste obtenue après avoir retiré le minimum est : [4, 7, 4, 5, 6]\n",
      "Les minimums trouvés sont (par ordre croissant) : [1, 2, 3]\n",
      "\n",
      "\n",
      "On cherche le (premier) minimum dans [1, 4, 7, 4, 5, 3, 2, 6]\n",
      "On trouve 4, d'index : 0\n",
      "La liste obtenue après avoir retiré le minimum est : [7, 4, 5, 6]\n",
      "Les minimums trouvés sont (par ordre croissant) : [1, 2, 3, 4]\n",
      "\n",
      "\n",
      "On cherche le (premier) minimum dans [1, 4, 7, 4, 5, 3, 2, 6]\n",
      "On trouve 4, d'index : 1\n",
      "La liste obtenue après avoir retiré le minimum est : [7, 5, 6]\n",
      "Les minimums trouvés sont (par ordre croissant) : [1, 2, 3, 4, 4]\n",
      "\n",
      "\n",
      "On cherche le (premier) minimum dans [1, 4, 7, 4, 5, 3, 2, 6]\n",
      "On trouve 5, d'index : 1\n",
      "La liste obtenue après avoir retiré le minimum est : [7, 6]\n",
      "Les minimums trouvés sont (par ordre croissant) : [1, 2, 3, 4, 4, 5]\n",
      "\n",
      "\n",
      "On cherche le (premier) minimum dans [1, 4, 7, 4, 5, 3, 2, 6]\n",
      "On trouve 6, d'index : 1\n",
      "La liste obtenue après avoir retiré le minimum est : [7]\n",
      "Les minimums trouvés sont (par ordre croissant) : [1, 2, 3, 4, 4, 5, 6]\n",
      "\n",
      "\n",
      "On cherche le (premier) minimum dans [1, 4, 7, 4, 5, 3, 2, 6]\n",
      "On trouve 7, d'index : 0\n",
      "La liste obtenue après avoir retiré le minimum est : []\n",
      "Les minimums trouvés sont (par ordre croissant) : [1, 2, 3, 4, 4, 5, 6, 7]\n",
      "\n",
      "\n"
     ]
    },
    {
     "data": {
      "text/plain": [
       "[1, 2, 3, 4, 4, 5, 6, 7]"
      ]
     },
     "execution_count": 17,
     "metadata": {},
     "output_type": "execute_result"
    }
   ],
   "source": [
    "tri_naif([1,4,7,4,5, 3, 2, 6], verbose=True)"
   ]
  },
  {
   "cell_type": "markdown",
   "metadata": {},
   "source": [
    "## Ajout dans TP sur librairie pandas\n",
    "### Exercice Bonus\n",
    "### Information dataset\n",
    "- CRIM: per capita crime rate by town.\n",
    "- ZN: proportion of residential land zoned for lots over 25,000 sq.ft.\n",
    "- INDUS: proportion of nonretail business acres per town.\n",
    "- CHAS: Charles River dummy variable (= 1 if tract bounds river; 0 otherwise).\n",
    "- NOX: nitric oxides concentration (parts per 10 million).\n",
    "- RM: average number of rooms per dwelling.\n",
    "- AGE: proportion of owner-occupied units built prior to 1940.\n",
    "- DIS: weighted distances to five Boston employment centers.\n",
    "- RAD: index of accessibility to radial highways.\n",
    "- TAX: full-value property-tax rate per $10,000.\n",
    "- PTRATIO: pupil-teacher ratio by town.\n",
    "\n",
    "- B: 1000(Bk – 0.63)^2 where Bk is the proportion of blacks by town.\n",
    "- LSTAT: % lower status of the population.\n",
    "- MEDV: Median value of owner-occupied homes in $1000s."
   ]
  },
  {
   "cell_type": "code",
   "execution_count": null,
   "metadata": {},
   "outputs": [],
   "source": [
    "import pandas as pd\n",
    "df = pd.read_csv(\"https://raw.githubusercontent.com/selva86/datasets/master/BostonHousing.csv\")\n",
    "d = df.to_dict(orient='records')"
   ]
  }
 ],
 "metadata": {
  "kernelspec": {
   "display_name": "Python 3",
   "language": "python",
   "name": "python3"
  },
  "language_info": {
   "codemirror_mode": {
    "name": "ipython",
    "version": 3
   },
   "file_extension": ".py",
   "mimetype": "text/x-python",
   "name": "python",
   "nbconvert_exporter": "python",
   "pygments_lexer": "ipython3",
   "version": "3.8.6"
  }
 },
 "nbformat": 4,
 "nbformat_minor": 4
}
