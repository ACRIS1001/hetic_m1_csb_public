{
 "cells": [
  {
   "cell_type": "markdown",
   "metadata": {},
   "source": [
    "# **M1 - CSB**\n",
    "# **TP 3 - Algorithmie**\n",
    "\n",
    "***\n",
    "\n",
    "[**Notions**](#notions)\n",
    "\n",
    "1. [Un petit jeu : deviner un nombre entre 1 et 100](#1)\n",
    "\n",
    "[**Exercices**](#exercices)\n",
    "\n",
    "***"
   ]
  },
  {
   "cell_type": "markdown",
   "metadata": {},
   "source": [
    "<a id=\"1\"></a>\n"
   ]
  },
  {
   "cell_type": "markdown",
   "metadata": {},
   "source": [
    "## Exercice 1 - deviner un nombre entre 1 et 100"
   ]
  },
  {
   "cell_type": "code",
   "execution_count": 22,
   "metadata": {},
   "outputs": [],
   "source": [
    "import random\n",
    "\n",
    "def jeu_deviner_nombre():\n",
    "    \"\"\"Jeu : il faut deviner un nombre choisi au hasard en moins de 10 essais\"\"\"\n",
    "    \n",
    "    # Nombre à deviner\n",
    "    nombre = random.randint(1, 100)\n",
    "    \n",
    "    print(\"Un nombre entre 1 et 100 a été sélectionné aléatoirement\")\n",
    "    print(\"Vous avez 10 essais pour le deviner\")\n",
    "    print(\"Il vous sera juste indiqué si le nombre est plus grand ou plus petit que votre proposition\")\n",
    "    \n",
    "    # 10 essais\n",
    "    for _ in range(10):\n",
    "        \n",
    "        proposition = input()\n",
    "        \n",
    "        # On essaie de convertir l'input string en entier\n",
    "        try:\n",
    "            proposition = int(proposition)\n",
    "        \n",
    "        # Si on arrive pas, on affiche un message d'erreur\n",
    "        except:\n",
    "            print(f\"Vous avez saisi : {proposition} - ce n'est pas un nombre\")\n",
    "            # Permet de passer tout de suite à l'itération suivante de la boucle\n",
    "            continue\n",
    "        \n",
    "        # On vérifie que la proposition est entre 1 et 100\n",
    "        if not (1 <= proposition <= 100):\n",
    "            print(f\"Le nombre à trouver est entre 1 et 100 - pourtant vous avez saisi\")\n",
    "        \n",
    "        # Si la proposition est le bon nombre\n",
    "        elif proposition == nombre:\n",
    "            print(f\"Vous avez gagné, le nombre est bien {proposition}\")\n",
    "        \n",
    "        # La proposition est plus grande\n",
    "        elif proposition > nombre:\n",
    "            print(f\"Le nombre cherché est plus petit que {proposition}\")\n",
    "        \n",
    "        # La proposition est plus petite\n",
    "        elif proposition < nombre:\n",
    "            print(f\"Le nombre cherché est plus grand que {proposition}\")"
   ]
  },
  {
   "cell_type": "code",
   "execution_count": null,
   "metadata": {},
   "outputs": [],
   "source": [
    "jeu_deviner_nombre()"
   ]
  },
  {
   "cell_type": "markdown",
   "metadata": {},
   "source": [
    "- Adapter le code de la fonction `jeu_deviner_nombre`pour :\n",
    "    - Deviner un nombre entre 0 et 50\n",
    "    - En seulement 5 essais\n",
    "\n",
    "- Adapter le code de la fonction `jeu_deviner_nombre` pour afficher un message en cas de victoire / réussite qui :\n",
    "    - Récapitule tous les nombres choisis par l'utilisateur\n",
    "    - Affiche un message indiquant le nombre d'essais dont il a eu besoin (seulement s'il gagne)"
   ]
  },
  {
   "cell_type": "code",
   "execution_count": null,
   "metadata": {},
   "outputs": [],
   "source": []
  },
  {
   "cell_type": "code",
   "execution_count": null,
   "metadata": {},
   "outputs": [],
   "source": []
  },
  {
   "cell_type": "markdown",
   "metadata": {},
   "source": [
    "## Exercice 2\n",
    "- Un enfant est face à une échelle qui fait 15 barreaux. Il peut monter les barreaux un par un ou deux par deux. De combien de façon différentes peut-il monter l'échelle ?"
   ]
  },
  {
   "cell_type": "code",
   "execution_count": null,
   "metadata": {},
   "outputs": [],
   "source": []
  },
  {
   "cell_type": "code",
   "execution_count": null,
   "metadata": {},
   "outputs": [],
   "source": []
  },
  {
   "cell_type": "code",
   "execution_count": null,
   "metadata": {},
   "outputs": [],
   "source": []
  },
  {
   "cell_type": "code",
   "execution_count": null,
   "metadata": {},
   "outputs": [],
   "source": []
  },
  {
   "cell_type": "code",
   "execution_count": null,
   "metadata": {},
   "outputs": [],
   "source": []
  },
  {
   "cell_type": "code",
   "execution_count": null,
   "metadata": {},
   "outputs": [],
   "source": []
  }
 ],
 "metadata": {
  "kernelspec": {
   "display_name": "Python 3",
   "language": "python",
   "name": "python3"
  },
  "language_info": {
   "codemirror_mode": {
    "name": "ipython",
    "version": 3
   },
   "file_extension": ".py",
   "mimetype": "text/x-python",
   "name": "python",
   "nbconvert_exporter": "python",
   "pygments_lexer": "ipython3",
   "version": "3.8.6"
  }
 },
 "nbformat": 4,
 "nbformat_minor": 4
}
